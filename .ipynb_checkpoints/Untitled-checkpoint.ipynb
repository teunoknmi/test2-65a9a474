{
 "cells": [
  {
   "cell_type": "markdown",
   "id": "4afd4677-eb0c-484e-a81c-183de46f9f6e",
   "metadata": {},
   "source": [
    "# trwtwe"
   ]
  },
  {
   "cell_type": "code",
   "execution_count": 1,
   "id": "091324d7-231b-4323-96a4-f8c1d2e18100",
   "metadata": {},
   "outputs": [
    {
     "name": "stdout",
     "output_type": "stream",
     "text": [
      "hoi\n"
     ]
    }
   ],
   "source": [
    "print(\"hoi\")"
   ]
  }
 ],
 "metadata": {
  "kernelspec": {
   "display_name": "Python 3 (ipykernel)",
   "language": "python",
   "name": "python3"
  },
  "language_info": {
   "codemirror_mode": {
    "name": "ipython",
    "version": 3
   },
   "file_extension": ".py",
   "mimetype": "text/x-python",
   "name": "python",
   "nbconvert_exporter": "python",
   "pygments_lexer": "ipython3",
   "version": "3.11.9"
  }
 },
 "nbformat": 4,
 "nbformat_minor": 5
}
